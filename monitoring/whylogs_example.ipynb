# whylogs_example.py
import pandas as pd
import whylogs as why
from whylogs.app.writers import DefaultWriter

# Paths
DATA_PATH = "data/raw/data.csv"
PROFILE_OUTPUT = "logs/whylogs_profile"

def load_data(path=DATA_PATH):
    """Load raw dataset."""
    df = pd.read_csv(path)
    print(f"Data loaded. Shape: {df.shape}")
    return df

def log_data(df):
    """Log dataset using WhyLogs."""
    # Create a WhyLogs session
    writer = DefaultWriter(output_path=PROFILE_OUTPUT)
    
    with why.session() as session:
        profile = session.log(df, dataset_name="mlops_dataset")
        writer.write(profile)
        print(f"Profile written to {PROFILE_OUTPUT}")

def main():
    df = load_data()
    log_data(df)

if __name__ == "__main__":
    main()
